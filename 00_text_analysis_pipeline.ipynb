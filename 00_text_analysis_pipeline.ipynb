{
  "nbformat": 4,
  "nbformat_minor": 0,
  "metadata": {
    "colab": {
      "provenance": [],
      "authorship_tag": "ABX9TyMC9nlPWbS2R5Ltue7DZvvd",
      "include_colab_link": true
    },
    "kernelspec": {
      "name": "python3",
      "display_name": "Python 3"
    },
    "language_info": {
      "name": "python"
    }
  },
  "cells": [
    {
      "cell_type": "markdown",
      "metadata": {
        "id": "view-in-github",
        "colab_type": "text"
      },
      "source": [
        "<a href=\"https://colab.research.google.com/github/Najam-ul-islam/00_text-analysis-pipeline/blob/main/00_text_analysis_pipeline.ipynb\" target=\"_parent\"><img src=\"https://colab.research.google.com/assets/colab-badge.svg\" alt=\"Open In Colab\"/></a>"
      ]
    },
    {
      "cell_type": "markdown",
      "source": [
        "# Text Analysis Pipeline\n",
        "In this project, we need to perform the multi-step text analysis pipeline.Our use case will focus on processing a given text through three key stages:\n",
        "\n",
        "1. Text Classification: We'll categorize the input text into predefined categories (e.g., News, Blog, Research, or Other).\n",
        "2. Entity Extraction: We'll identify and extract key entities such as persons, organizations, and locations from the text.\n",
        "3. Text Summarization: Finally, we'll generate a concise summary of the input text."
      ],
      "metadata": {
        "id": "pThgIL6w_gCR"
      }
    },
    {
      "cell_type": "code",
      "source": [
        "%%capture --no-stderr\n",
        "%pip install -U langchain_google_genai langchain langchain_core langgraph, python-dotenv"
      ],
      "metadata": {
        "id": "hRQwySGI8hKW"
      },
      "execution_count": 1,
      "outputs": []
    },
    {
      "cell_type": "code",
      "source": [
        "!pip install Ipython"
      ],
      "metadata": {
        "colab": {
          "base_uri": "https://localhost:8080/"
        },
        "id": "1ZRAzl6vH_V1",
        "outputId": "7acf80e4-f241-4543-f0f1-ccc375199dc7"
      },
      "execution_count": 2,
      "outputs": [
        {
          "output_type": "stream",
          "name": "stdout",
          "text": [
            "Requirement already satisfied: Ipython in /usr/local/lib/python3.10/dist-packages (7.34.0)\n",
            "Requirement already satisfied: setuptools>=18.5 in /usr/local/lib/python3.10/dist-packages (from Ipython) (71.0.4)\n",
            "Requirement already satisfied: jedi>=0.16 in /usr/local/lib/python3.10/dist-packages (from Ipython) (0.19.1)\n",
            "Requirement already satisfied: decorator in /usr/local/lib/python3.10/dist-packages (from Ipython) (4.4.2)\n",
            "Requirement already satisfied: pickleshare in /usr/local/lib/python3.10/dist-packages (from Ipython) (0.7.5)\n",
            "Requirement already satisfied: traitlets>=4.2 in /usr/local/lib/python3.10/dist-packages (from Ipython) (5.7.1)\n",
            "Requirement already satisfied: prompt-toolkit!=3.0.0,!=3.0.1,<3.1.0,>=2.0.0 in /usr/local/lib/python3.10/dist-packages (from Ipython) (3.0.48)\n",
            "Requirement already satisfied: pygments in /usr/local/lib/python3.10/dist-packages (from Ipython) (2.18.0)\n",
            "Requirement already satisfied: backcall in /usr/local/lib/python3.10/dist-packages (from Ipython) (0.2.0)\n",
            "Requirement already satisfied: matplotlib-inline in /usr/local/lib/python3.10/dist-packages (from Ipython) (0.1.7)\n",
            "Requirement already satisfied: pexpect>4.3 in /usr/local/lib/python3.10/dist-packages (from Ipython) (4.9.0)\n",
            "Requirement already satisfied: parso<0.9.0,>=0.8.3 in /usr/local/lib/python3.10/dist-packages (from jedi>=0.16->Ipython) (0.8.4)\n",
            "Requirement already satisfied: ptyprocess>=0.5 in /usr/local/lib/python3.10/dist-packages (from pexpect>4.3->Ipython) (0.7.0)\n",
            "Requirement already satisfied: wcwidth in /usr/local/lib/python3.10/dist-packages (from prompt-toolkit!=3.0.0,!=3.0.1,<3.1.0,>=2.0.0->Ipython) (0.2.13)\n"
          ]
        }
      ]
    },
    {
      "cell_type": "code",
      "source": [
        "import os, getpass\n",
        "\n",
        "def _set_env(var:str):\n",
        "  if not os.environ.get(var):\n",
        "    os.environ[var] = getpass.getpass(f\"{var}\")\n",
        "_set_env(\"GOOGLE_API_KEY\")"
      ],
      "metadata": {
        "colab": {
          "base_uri": "https://localhost:8080/"
        },
        "collapsed": true,
        "id": "yUKZehal5pn-",
        "outputId": "4ff007a9-e771-46c2-ae00-a1481a0234a8"
      },
      "execution_count": 6,
      "outputs": [
        {
          "name": "stdout",
          "output_type": "stream",
          "text": [
            "GOOGLE_API_KEY··········\n"
          ]
        }
      ]
    },
    {
      "cell_type": "code",
      "source": [
        "from langchain_google_genai import ChatGoogleGenerativeAI\n",
        "from langgraph.graph import StateGraph, START, END\n",
        "from typing import TypedDict, List\n",
        "from langchain.prompts import PromptTemplate\n",
        "from IPython.display import display, Image\n",
        "from langchain.schema import HumanMessage, AIMessage"
      ],
      "metadata": {
        "id": "jeFP1vfb7IUO"
      },
      "execution_count": 18,
      "outputs": []
    },
    {
      "cell_type": "markdown",
      "source": [
        "### Setup LLM"
      ],
      "metadata": {
        "id": "eyzIzIsVJbps"
      }
    },
    {
      "cell_type": "code",
      "source": [
        "os.environ[\"GOOGLE_API_KEY\"] = os.getenv('GOOGLE_API_KEY')\n",
        "llm = ChatGoogleGenerativeAI(model=\"gemini-1.5-flash\")"
      ],
      "metadata": {
        "id": "AiW4Ha--Jhtz"
      },
      "execution_count": 19,
      "outputs": []
    },
    {
      "cell_type": "code",
      "source": [
        "# llm.invoke(\"who are you?\")"
      ],
      "metadata": {
        "id": "AzYhk6aULcLc"
      },
      "execution_count": 20,
      "outputs": []
    },
    {
      "cell_type": "markdown",
      "source": [
        "### Define State Schema"
      ],
      "metadata": {
        "id": "rK9gJ3s3NUqw"
      }
    },
    {
      "cell_type": "code",
      "source": [
        "class State(TypedDict):\n",
        "  text:str\n",
        "  classification:str\n",
        "  entities:List[str]\n",
        "  summary:str\n"
      ],
      "metadata": {
        "id": "bT6yN9U0NTf2"
      },
      "execution_count": 21,
      "outputs": []
    },
    {
      "cell_type": "markdown",
      "source": [
        "### Create Nodes"
      ],
      "metadata": {
        "id": "Pg04OZW-JTgE"
      }
    },
    {
      "cell_type": "code",
      "source": [
        "# classification_node\n",
        "def classify_text(state: State):\n",
        "  ''' Classify the text into one of the categories: News, Blog, Research, or Other '''\n",
        "  prompt = PromptTemplate(\n",
        "      input_variable = [\"text\"],\n",
        "      template = \"\"\"\n",
        "      Classify the following text into one of the categories: News, Blog, Research, or Other.\\n\\n\n",
        "      Text:{text}\\n\\nCategory:\n",
        "      \"\"\")\n",
        "  message = HumanMessage(content=prompt.format(text=state[\"text\"]))\n",
        "  classified_text = llm.invoke([message]).content.strip()\n",
        "  return {\"classification\": classified_text}\n",
        "\n",
        "# Extract_entities_node\n",
        "def extract_entities(state: State):\n",
        "  ''' Extract entities from the text '''\n",
        "  prompt = PromptTemplate(\n",
        "      input_variable = [\"text\"],\n",
        "      template = \"\"\"Extract all the entities (Person, Organization, Location) from the following text.\n",
        "      Provide the result as a comma-separated list.\\n\\nText:{text}\\n\\nEntities:\"\"\"\n",
        "  )\n",
        "  message = HumanMessage(content=prompt.format(text=state[\"text\"]))\n",
        "  entities = llm.invoke([message]).content.strip()\n",
        "  return {\"entities\": entities.split(\",\")}\n",
        "\n",
        "# Summarize_node\n",
        "def summarize_text(state: State):\n",
        "  ''' Summarize the text '''\n",
        "  prompt = PromptTemplate(\n",
        "      input_variable = [\"text\"],\n",
        "      template = \"\"\"Summarize the following text in 100 words or less.\\n\\nText:{text}\\n\\nSummary:\"\"\"\n",
        "  )\n",
        "  message = HumanMessage(content=prompt.format(text=state[\"text\"]))\n",
        "  summary = llm.invoke([message]).content.strip()\n",
        "  return {\"summary\": summary}"
      ],
      "metadata": {
        "id": "mLqnQe1zJW78"
      },
      "execution_count": 30,
      "outputs": []
    },
    {
      "cell_type": "markdown",
      "source": [
        "### Create StateGraph workflow"
      ],
      "metadata": {
        "id": "SOAIvBrPaTKX"
      }
    },
    {
      "cell_type": "code",
      "source": [
        "graph_builder = StateGraph(State)\n",
        "\n",
        "# Add nodes to the graph\n",
        "graph_builder.add_node(\"classification_node\",classify_text)\n",
        "graph_builder.add_node(\"entitie_extraction_node\", extract_entities)\n",
        "graph_builder.add_node(\"summarize_node\", summarize_text)\n",
        "\n",
        "# create Edges between Nodes\n",
        "graph_builder.add_edge(START, \"classification_node\")\n",
        "graph_builder.add_edge(\"classification_node\", \"entitie_extraction_node\")\n",
        "graph_builder.add_edge(\"entitie_extraction_node\", \"summarize_node\")\n",
        "graph_builder.add_edge(\"summarize_node\", END)\n",
        "\n",
        "# compile the graph\n",
        "graph = graph_builder.compile()\n"
      ],
      "metadata": {
        "id": "w0G8l2OcaR5o"
      },
      "execution_count": 31,
      "outputs": []
    },
    {
      "cell_type": "markdown",
      "source": [
        "### Visualize the Graph"
      ],
      "metadata": {
        "id": "CW1rN0QAcKJO"
      }
    },
    {
      "cell_type": "code",
      "source": [
        "display(\n",
        "    Image(graph.get_graph().draw_mermaid_png())\n",
        ")"
      ],
      "metadata": {
        "colab": {
          "base_uri": "https://localhost:8080/",
          "height": 449
        },
        "id": "kFiUodF8cIY5",
        "outputId": "d9af894e-b442-491c-9b3b-4c342de9e5c5"
      },
      "execution_count": 32,
      "outputs": [
        {
          "output_type": "display_data",
          "data": {
            "image/jpeg": "[encoded data removed]",
            "text/plain": [
              "<IPython.core.display.Image object>"
            ]
          },
          "metadata": {}
        }
      ]
    },
    {
      "cell_type": "markdown",
      "source": [
        "### Testing the Pipeline"
      ],
      "metadata": {
        "id": "q9hIRcq5ct57"
      }
    },
    {
      "cell_type": "code",
      "source": [
        "text = \"\"\"\n",
        "In Chains, a sequence of actions is hardcoded. In Agents, a language model is used as a reasoning engine to determine which actions to take and in which order\n",
        "\"\"\"\n",
        "\n",
        "# input the text in dictionary(key:value) form\n",
        "text_input = {\"text\": text}\n",
        "\n",
        "# invoke the graph with the input text\n",
        "result = graph.invoke(text_input)\n",
        "\n",
        "# print the results\n",
        "\n",
        "print(f\"Classification: {result['classification']}\")\n",
        "print(f\"Entities: {result['entities']}\")\n",
        "print(f\"Summary: {result['summary']}\")"
      ],
      "metadata": {
        "colab": {
          "base_uri": "https://localhost:8080/"
        },
        "id": "Tu1CbUTbcq6F",
        "outputId": "dd16c1fa-9cee-4790-bc2f-ea6ae29abb10"
      },
      "execution_count": 33,
      "outputs": [
        {
          "output_type": "stream",
          "name": "stdout",
          "text": [
            "Classification: The category is **Other**. \n",
            "\n",
            "Here's why:\n",
            "\n",
            "* **News:** This text doesn't report on current events.\n",
            "* **Blog:**  While it could be part of a blog post, it's too technical and lacks the typical blog elements like personal opinions or anecdotes.\n",
            "* **Research:** This text is more of a conceptual comparison than a research finding. It doesn't present data or analysis.\n",
            "\n",
            "**The text appears to be a technical explanation or comparison of two concepts (Chains and Agents) within a specific field, likely related to artificial intelligence or programming.**\n",
            "Entities: ['Chains', ' Agents']\n",
            "Summary: \"Chains\" are rigid, pre-programmed sequences of actions, while \"Agents\" employ language models to dynamically decide actions and their order.  This means agents are more flexible and adaptable, while chains are predictable and less complex.\n"
          ]
        }
      ]
    },
    {
      "cell_type": "code",
      "source": [],
      "metadata": {
        "id": "Eo8NvPbHd0Ga"
      },
      "execution_count": null,
      "outputs": []
    }
  ]
}